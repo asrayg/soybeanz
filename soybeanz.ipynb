{
 "cells": [
  {
   "cell_type": "code",
   "execution_count": null,
   "id": "55687aca-f289-4c23-8430-eee147b7b991",
   "metadata": {},
   "outputs": [],
   "source": [
    "!pip install tensorflow numpy zipfile"
   ]
  },
  {
   "cell_type": "code",
   "execution_count": null,
   "id": "b6a4d6de-2e08-454d-8c93-891549fbf141",
   "metadata": {},
   "outputs": [],
   "source": [
    "import os\n",
    "import zipfile\n",
    "import tensorflow as tf\n",
    "from tensorflow.keras.preprocessing.image import ImageDataGenerator\n",
    "from tensorflow.keras.models import Sequential\n",
    "from tensorflow.keras.layers import Conv2D, MaxPooling2D, Flatten, Dense, Dropout\n",
    "import numpy as np\n",
    "from tensorflow.keras.preprocessing import image"
   ]
  },
  {
   "cell_type": "code",
   "execution_count": null,
   "id": "76c70f3d-b0a1-4861-acc0-aba75b49bb9f",
   "metadata": {},
   "outputs": [],
   "source": [
    "zip_files = [\n",
    "    'bacterial_blight.zip',\n",
    "    'cercospora_leaf_blight.zip',\n",
    "    'downey_mildew.zip',\n",
    "    'frogeye.zip',\n",
    "    'healthy.zip',\n",
    "    'potassium_deficiency.zip',\n",
    "    'soybean_rust.zip',\n",
    "    'target_spot.zip'\n",
    "]"
   ]
  },
  {
   "cell_type": "code",
   "execution_count": null,
   "id": "6bae5536-8ec7-4348-b1de-25a9b5144d9b",
   "metadata": {},
   "outputs": [],
   "source": [
    "for file in zip_files:\n",
    "    with zipfile.ZipFile(file, 'r') as zip_ref:\n",
    "        zip_ref.extractall('./data')"
   ]
  },
  {
   "cell_type": "code",
   "execution_count": null,
   "id": "16b3aea7-036c-4c28-8d30-7c3bd9830256",
   "metadata": {},
   "outputs": [],
   "source": [
    "base_dir = './data'\n",
    "categories = ['bacterial_blight', 'cercospora_leaf_blight', 'downey_mildew', 'frogeye', 'healthy', 'potassium_deficiency', 'soybean_rust', 'target_spot']"
   ]
  },
  {
   "cell_type": "code",
   "execution_count": null,
   "id": "c632a5ef-6046-4760-9b1b-d9dea0e8b22d",
   "metadata": {},
   "outputs": [],
   "source": [
    "datagen = ImageDataGenerator(rescale=1./255, validation_split=0.2)"
   ]
  },
  {
   "cell_type": "code",
   "execution_count": null,
   "id": "19bcb244-154f-47ea-8dae-c498df0496de",
   "metadata": {},
   "outputs": [],
   "source": [
    "train_generator = datagen.flow_from_directory(\n",
    "    base_dir,\n",
    "    target_size=(256, 256),\n",
    "    batch_size=32,\n",
    "    class_mode='categorical',\n",
    "    subset='training'\n",
    ")"
   ]
  },
  {
   "cell_type": "code",
   "execution_count": null,
   "id": "848bcb7a-1d06-429b-80d5-6e411f2e0ea3",
   "metadata": {},
   "outputs": [],
   "source": [
    "validation_generator = datagen.flow_from_directory(\n",
    "    base_dir,\n",
    "    target_size=(256, 256),\n",
    "    batch_size=32,\n",
    "    class_mode='categorical',\n",
    "    subset='validation'\n",
    ")"
   ]
  },
  {
   "cell_type": "code",
   "execution_count": null,
   "id": "090b450e-d824-46a4-ac16-4be83cf17be3",
   "metadata": {},
   "outputs": [],
   "source": [
    "model = Sequential([\n",
    "    Conv2D(32, (3, 3), activation='relu', input_shape=(256, 256, 3)),\n",
    "    MaxPooling2D(2, 2),\n",
    "    Conv2D(64, (3, 3), activation='relu'),\n",
    "    MaxPooling2D(2, 2),\n",
    "    Conv2D(128, (3, 3), activation='relu'),\n",
    "    MaxPooling2D(2, 2),\n",
    "    Flatten(),\n",
    "    Dense(512, activation='relu'),\n",
    "    Dropout(0.5),\n",
    "    Dense(len(categories), activation='softmax')\n",
    "])"
   ]
  },
  {
   "cell_type": "code",
   "execution_count": null,
   "id": "86313419-588b-4373-801f-5e058666d520",
   "metadata": {},
   "outputs": [],
   "source": [
    "model.compile(optimizer='adam', loss='categorical_crossentropy', metrics=['accuracy'])"
   ]
  },
  {
   "cell_type": "code",
   "execution_count": null,
   "id": "0cc2a8db-21e4-4f0b-a70e-cf15e3b459a9",
   "metadata": {},
   "outputs": [],
   "source": [
    "model.summary()"
   ]
  },
  {
   "cell_type": "code",
   "execution_count": null,
   "id": "d4d57dc8-4e14-4744-ae79-d355134da079",
   "metadata": {},
   "outputs": [],
   "source": [
    "history = model.fit(\n",
    "    train_generator,\n",
    "    steps_per_epoch=train_generator.samples // train_generator.batch_size,\n",
    "    validation_data=validation_generator,\n",
    "    validation_steps=validation_generator.samples // validation_generator.batch_size,\n",
    "    epochs=25\n",
    ")"
   ]
  },
  {
   "cell_type": "code",
   "execution_count": null,
   "id": "7cd6cc46-366a-4c41-866d-4c3aed117ac1",
   "metadata": {},
   "outputs": [],
   "source": [
    "test_loss, test_acc = model.evaluate(validation_generator)\n",
    "print(f'Test accuracy: {test_acc}')"
   ]
  },
  {
   "cell_type": "code",
   "execution_count": null,
   "id": "fa52ed53-3051-4bdf-81e2-d720b83e83e0",
   "metadata": {},
   "outputs": [],
   "source": [
    "def predict_disease(img_path, model):\n",
    "    img = image.load_img(img_path, target_size=(256, 256))\n",
    "    img_array = image.img_to_array(img) / 255.0\n",
    "    img_array = np.expand_dims(img_array, axis=0)\n",
    "    \n",
    "    prediction = model.predict(img_array)\n",
    "    class_idx = np.argmax(prediction)\n",
    "    class_label = categories[class_idx]\n",
    "    \n",
    "    return class_label"
   ]
  },
  {
   "cell_type": "code",
   "execution_count": null,
   "id": "b8f07f95-528c-4945-bee1-61c912de5db9",
   "metadata": {},
   "outputs": [],
   "source": [
    "panoramic_image_path = 'path_to_panoramic_image.jpg'\n",
    "result = predict_disease(panoramic_image_path, model)\n",
    "print(f'The panoramic image shows: {result}')"
   ]
  }
 ],
 "metadata": {
  "kernelspec": {
   "display_name": "Python 3 (ipykernel)",
   "language": "python",
   "name": "python3"
  },
  "language_info": {
   "codemirror_mode": {
    "name": "ipython",
    "version": 3
   },
   "file_extension": ".py",
   "mimetype": "text/x-python",
   "name": "python",
   "nbconvert_exporter": "python",
   "pygments_lexer": "ipython3",
   "version": "3.11.7"
  }
 },
 "nbformat": 4,
 "nbformat_minor": 5
}
